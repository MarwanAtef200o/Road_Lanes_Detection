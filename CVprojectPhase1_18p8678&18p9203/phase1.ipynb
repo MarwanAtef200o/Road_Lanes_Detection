{
 "cells": [
  {
   "cell_type": "code",
   "execution_count": null,
   "id": "a0df9402",
   "metadata": {},
   "outputs": [],
   "source": [
    "import cv2\n",
    "import numpy as np\n",
    "import matplotlib.pyplot as plt\n",
    "import matplotlib.image as mpimg\n",
    "import sys\n",
    "import pylab\n",
    "\n",
    "%matplotlib inline\n",
    "pylab.rcParams[\"figure.figsize\"] = (10.,10.)"
   ]
  },
  {
   "cell_type": "markdown",
   "id": "975ea301",
   "metadata": {},
   "source": [
    "# StackImages Function to print images on the same page"
   ]
  },
  {
   "cell_type": "code",
   "execution_count": null,
   "id": "3d6a9f88",
   "metadata": {},
   "outputs": [],
   "source": [
    "def stackImages(scale,imgArray):\n",
    "    rows = len(imgArray)\n",
    "    cols = len(imgArray[0])\n",
    "    rowsAvailable = isinstance(imgArray[0], list)\n",
    "    width = imgArray[0][0].shape[1]\n",
    "    height = imgArray[0][0].shape[0]\n",
    "    if rowsAvailable:\n",
    "        for x in range ( 0, rows):\n",
    "            for y in range(0, cols):\n",
    "                if imgArray[x][y].shape[:2] == imgArray[0][0].shape [:2]:\n",
    "                    imgArray[x][y] = cv2.resize(imgArray[x][y], (0, 0), None, scale, scale)\n",
    "                else:\n",
    "                    imgArray[x][y] = cv2.resize(imgArray[x][y], (imgArray[0][0].shape[1], imgArray[0][0].shape[0]), None, scale, scale)\n",
    "                if len(imgArray[x][y].shape) == 2: imgArray[x][y]= cv2.cvtColor( imgArray[x][y], cv2.COLOR_GRAY2BGR)\n",
    "        imageBlank = np.zeros((height, width, 3), np.uint8)\n",
    "        hor = [imageBlank]*rows\n",
    "        hor_con = [imageBlank]*rows\n",
    "        for x in range(0, rows):\n",
    "            hor[x] = np.hstack(imgArray[x])\n",
    "        ver = np.vstack(hor)\n",
    "    else:\n",
    "        for x in range(0, rows):\n",
    "            if imgArray[x].shape[:2] == imgArray[0].shape[:2]:\n",
    "                imgArray[x] = cv2.resize(imgArray[x], (0, 0), None, scale, scale)\n",
    "            else:\n",
    "                imgArray[x] = cv2.resize(imgArray[x], (imgArray[0].shape[1], imgArray[0].shape[0]), None,scale, scale)\n",
    "            if len(imgArray[x].shape) == 2: imgArray[x] = cv2.cvtColor(imgArray[x], cv2.COLOR_GRAY2BGR)\n",
    "        hor= np.hstack(imgArray)\n",
    "        ver = hor\n",
    "    return ver"
   ]
  },
  {
   "cell_type": "code",
   "execution_count": null,
   "id": "ba45e6bf",
   "metadata": {},
   "outputs": [],
   "source": [
    "img1 = cv2.imread(\"pipeline.jpg\")\n",
    "plt.imshow(img1)"
   ]
  },
  {
   "cell_type": "markdown",
   "id": "f47ee113",
   "metadata": {},
   "source": [
    "# Region function to determine region of interest"
   ]
  },
  {
   "cell_type": "code",
   "execution_count": null,
   "id": "3c2064d5",
   "metadata": {},
   "outputs": [],
   "source": [
    "def region(image):\n",
    "    height, width = image.shape\n",
    "    region_of_interest = np.array([[(100, height), (550, 350), (1200, height)]]) #defines a triangle as a region that surrounds the lanes\n",
    "    mask = np.zeros_like(image)  # black image mask\n",
    "    mask = cv2.fillPoly(mask, region_of_interest, 255)  # Fill the triangle white\n",
    "    #image is image number 3\n",
    "    mask = cv2.bitwise_and(image, mask)  # detect the lane lines exactly\n",
    "    #mask is image number 4\n",
    "    return mask"
   ]
  },
  {
   "cell_type": "code",
   "execution_count": null,
   "id": "40836f83",
   "metadata": {},
   "outputs": [],
   "source": [
    "img1 = cv2.imread(\"region.jpg\")\n",
    "plt.imshow(img1)"
   ]
  },
  {
   "cell_type": "markdown",
   "id": "cf82ba94",
   "metadata": {},
   "source": [
    "# Function to average hough lines"
   ]
  },
  {
   "cell_type": "code",
   "execution_count": null,
   "id": "364023ef",
   "metadata": {},
   "outputs": [],
   "source": [
    "def average(image, lines):\n",
    "    right = []\n",
    "    left = []\n",
    "    for line in lines:\n",
    "        x1, y1, x2, y2 = line.reshape(4)                  #line's start and end points\n",
    "        parameters = np.polyfit((x1, x2), (y1, y2), 1)    #put the coordinates of the start and end points in parameters array\n",
    "        m = parameters[0]\n",
    "        c = parameters[1]\n",
    "        if m < 0:\n",
    "            left.append((m, c))                             #identify as a left line\n",
    "        else:\n",
    "            right.append((m, c))                            #identify as a right line\n",
    "\n",
    "    right_avg = np.average(right, axis=0)\n",
    "    left_avg = np.average(left, axis=0)\n",
    "    left_line = connectPoints(image, left_avg)                #averages the group of left lines to one left line and the same for the group of right lines\n",
    "    right_line = connectPoints(image, right_avg)\n",
    "    return np.array([left_line, right_line])"
   ]
  },
  {
   "cell_type": "markdown",
   "id": "ce57db19",
   "metadata": {},
   "source": [
    "# Function to detect edges"
   ]
  },
  {
   "cell_type": "code",
   "execution_count": null,
   "id": "4d88b6fa",
   "metadata": {},
   "outputs": [],
   "source": [
    "def edge_detection(img, gray_img):\n",
    "    hsv_img = cv2.cvtColor(img, cv2.COLOR_RGB2HSV)\n",
    "    lower_yellow = np.array([20, 100, 100], dtype=\"uint8\")          #ranges of the color yellow\n",
    "    upper_yellow = np.array([100, 255, 255], dtype=\"uint8\")\n",
    "    yellow_mask = cv2.inRange(hsv_img, lower_yellow, upper_yellow)  #show only yellow and the rest is black\n",
    "    white_mask = cv2.inRange(gray_img, 200, 255)                    #show only white and the rest is black\n",
    "    yw_mask = cv2.bitwise_or(white_mask, yellow_mask)               #detects yellow and white colors;the yellow color in the yellow_mask is white\n",
    "    edges = cv2.bitwise_and(gray_img, yw_mask)                      #detects the white edges\n",
    "    return edges"
   ]
  },
  {
   "cell_type": "code",
   "execution_count": null,
   "id": "d861b25c",
   "metadata": {},
   "outputs": [],
   "source": [
    "img1 = cv2.imread(\"edges.jpg\")\n",
    "plt.imshow(img1)"
   ]
  },
  {
   "cell_type": "markdown",
   "id": "19e6872f",
   "metadata": {},
   "source": [
    "# Function to connect points"
   ]
  },
  {
   "cell_type": "code",
   "execution_count": null,
   "id": "3c8713b1",
   "metadata": {},
   "outputs": [],
   "source": [
    "#y=mx+c  straight line equation\n",
    "def connectPoints(image, average):                                  #function to make a line\n",
    "    try:\n",
    "        m, c = average                                              #updates the value of m,c according the average line\n",
    "    except TypeError:\n",
    "        m, c = 0.001, 0                                             #error if the line is nearly horizontal\n",
    "    y1 = int(image.shape[0])\n",
    "    y2 = int(y1 * (3.3 / 5))\n",
    "    x1 = int((y1 - c) // m)                                         #the height (y) remains the same, but x changes\n",
    "    x2 = int((y2 - c) // m)\n",
    "    return np.array([x1, y1, x2, y2])"
   ]
  },
  {
   "cell_type": "markdown",
   "id": "2ad6772c",
   "metadata": {},
   "source": [
    "# Function to display lines and fill between them"
   ]
  },
  {
   "cell_type": "code",
   "execution_count": null,
   "id": "c812aedd",
   "metadata": {},
   "outputs": [],
   "source": [
    "def display_lines(image, lines):                                        #lines: the one average left line and the one average right line\n",
    "    lines_image = np.zeros_like(image, 'uint8')\n",
    "    poly_image = np.zeros_like(image, 'uint8')\n",
    "    points = []\n",
    "\n",
    "    if lines is not None:\n",
    "        for line in lines:\n",
    "            x1, y1, x2, y2 = line                                                                       #a line has 2 endpoints (x1,y1), (x2,y2)\n",
    "            cv2.line(lines_image, (int(x1), int(y1)), (int(x2), int(y2)), (235, 0, 255), 12)            # draw the lines on the black lines_image\n",
    "\n",
    "\n",
    "            if x1 < x2:\n",
    "                points.append([x1, y1])                                             #the left road line\n",
    "                points.append([x2, y2])\n",
    "            else:\n",
    "                points.append([x2, y2])\n",
    "                points.append([x1, y1])                                             #the right road line\n",
    "\n",
    "    points = np.array(points)\n",
    "    cv2.fillPoly(poly_image, [points], (0, 255, 0))             #fill space between the lines with green color; draw the green polygon on the black poly_image\n",
    "    cv2.addWeighted(poly_image, 0.3, lines_image, 1, 0, lines_image)   #combine the drawn lines and green polygon in one image\n",
    "\n",
    "    # Measure distance from center\n",
    "    realCenter_x_axis = image.shape[1] / 2                                          #width/2; which resembles the car/camera center\n",
    "    laneCenter_x_axis = points[0][0] + (points[-1][0] - points[0][0]) / 2\n",
    "    centerDifference = realCenter_x_axis - laneCenter_x_axis\n",
    "\n",
    "    if centerDifference > 0:\n",
    "        text = f\"Vehicle is {abs(round(float(centerDifference / 1000), 2))}m left of center\"\n",
    "    elif centerDifference < 0:\n",
    "        text = f\"Vehicle is {abs(round(float(centerDifference / 1000), 2))}m right of center\"\n",
    "    else:\n",
    "        text = f\"Vehicle is at the center of the lane\"\n",
    "\n",
    "\n",
    "    lines_image = cv2.putText(lines_image, text, (50, 50), cv2.FONT_HERSHEY_SIMPLEX, 1, (255, 255, 255), 2, cv2.LINE_AA)\n",
    "\n",
    "    #  Crop car engine hood\n",
    "    lines_image = cv2.rectangle(lines_image, (0, image.shape[0] - 75), (image.shape[1], image.shape[0]), (0, 0, 0), -1)\n",
    "\n",
    "    return lines_image              # image number 5"
   ]
  },
  {
   "cell_type": "code",
   "execution_count": null,
   "id": "8b673180",
   "metadata": {},
   "outputs": [],
   "source": [
    "img1 = cv2.imread(\"display lines.jpg\")\n",
    "plt.imshow(img1)"
   ]
  },
  {
   "cell_type": "markdown",
   "id": "a1c15077",
   "metadata": {},
   "source": [
    "# Main Function that calls all other functions and returns output"
   ]
  },
  {
   "cell_type": "code",
   "execution_count": 1,
   "id": "5d16441e",
   "metadata": {},
   "outputs": [],
   "source": [
    "def framePipeline(img):\n",
    "\n",
    "    # Convert to Grayscale\n",
    "    gray_img = cv2.cvtColor(img, cv2.COLOR_BGR2GRAY)     #image number 1\n",
    "\n",
    "    # Add Gaussian blur\n",
    "    blurred_img = cv2.GaussianBlur(gray_img, (5, 5), 0)  #image number 2\n",
    "\n",
    "    # Edges Detection\n",
    "    edges = edge_detection(img, gray_img)                #image number 3\n",
    "\n",
    "    # Exact Lines Detection\n",
    "    exactLanes = region(edges)                       #image number 4\n",
    "\n",
    "    # Hough lines processing\n",
    "    lines = cv2.HoughLinesP(exactLanes, 1, np.pi / 180, 35, np.array([]), minLineLength=25, maxLineGap=2)\n",
    "    averagedLines = average(img, lines)               #the one average line for each side; total is 2 lines (the lane)\n",
    "    blackLines = display_lines(img, averagedLines)    #image number 5\n",
    "\n",
    "    blankImg= np.zeros_like(img)\n",
    "    imgStack= stackImages(0.4,([gray_img,blurred_img,edges],\n",
    "                               [exactLanes,blackLines,blankImg]))\n",
    "    cv2.imshow('pipeline',imgStack)\n",
    "\n",
    "    lanes = cv2.addWeighted(img, 1, blackLines, 1, 1)\n",
    "    return lanes                                       #the final output of the pipeline"
   ]
  },
  {
   "cell_type": "code",
   "execution_count": 2,
   "id": "3aae7a2a",
   "metadata": {},
   "outputs": [
    {
     "ename": "NameError",
     "evalue": "name 'cv2' is not defined",
     "output_type": "error",
     "traceback": [
      "\u001b[1;31m---------------------------------------------------------------------------\u001b[0m",
      "\u001b[1;31mNameError\u001b[0m                                 Traceback (most recent call last)",
      "\u001b[1;32m<ipython-input-2-8ed3959cbf9c>\u001b[0m in \u001b[0;36m<module>\u001b[1;34m\u001b[0m\n\u001b[1;32m----> 1\u001b[1;33m \u001b[0mimg1\u001b[0m \u001b[1;33m=\u001b[0m \u001b[0mcv2\u001b[0m\u001b[1;33m.\u001b[0m\u001b[0mimread\u001b[0m\u001b[1;33m(\u001b[0m\u001b[1;34m\"output2.jpg\"\u001b[0m\u001b[1;33m)\u001b[0m\u001b[1;33m\u001b[0m\u001b[1;33m\u001b[0m\u001b[0m\n\u001b[0m\u001b[0;32m      2\u001b[0m \u001b[0mimg1\u001b[0m \u001b[1;33m=\u001b[0m \u001b[0mcv2\u001b[0m\u001b[1;33m.\u001b[0m\u001b[0mcvtColor\u001b[0m\u001b[1;33m(\u001b[0m\u001b[0mimg1\u001b[0m\u001b[1;33m,\u001b[0m \u001b[0mcv2\u001b[0m\u001b[1;33m.\u001b[0m\u001b[0mCOLOR_BGR2RGB\u001b[0m\u001b[1;33m)\u001b[0m\u001b[1;33m\u001b[0m\u001b[1;33m\u001b[0m\u001b[0m\n\u001b[0;32m      3\u001b[0m \u001b[0mplt\u001b[0m\u001b[1;33m.\u001b[0m\u001b[0mimshow\u001b[0m\u001b[1;33m(\u001b[0m\u001b[0mimg1\u001b[0m\u001b[1;33m)\u001b[0m\u001b[1;33m\u001b[0m\u001b[1;33m\u001b[0m\u001b[0m\n",
      "\u001b[1;31mNameError\u001b[0m: name 'cv2' is not defined"
     ]
    }
   ],
   "source": [
    "img1 = cv2.imread(\"output2.jpg\")\n",
    "img1 = cv2.cvtColor(img1, cv2.COLOR_BGR2RGB)\n",
    "plt.imshow(img1)"
   ]
  }
 ],
 "metadata": {
  "kernelspec": {
   "display_name": "Python 3",
   "language": "python",
   "name": "python3"
  },
  "language_info": {
   "codemirror_mode": {
    "name": "ipython",
    "version": 3
   },
   "file_extension": ".py",
   "mimetype": "text/x-python",
   "name": "python",
   "nbconvert_exporter": "python",
   "pygments_lexer": "ipython3",
   "version": "3.8.8"
  }
 },
 "nbformat": 4,
 "nbformat_minor": 5
}
